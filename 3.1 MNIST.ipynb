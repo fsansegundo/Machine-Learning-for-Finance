{
 "cells": [
  {
   "cell_type": "code",
   "execution_count": 36,
   "metadata": {},
   "outputs": [],
   "source": [
    "import numpy as np\n",
    "import keras"
   ]
  },
  {
   "cell_type": "code",
   "execution_count": 37,
   "metadata": {},
   "outputs": [],
   "source": [
    "from keras.layers import Conv2D, Activation, MaxPool2D, Flatten, Dense\n",
    "from keras.models import Sequential\n",
    "\n",
    "# Images fed into this model are 512 x 512 pixels with 3 channels\n",
    "img_shape = (28,28,1)\n",
    "\n",
    "# Set up model\n",
    "model = Sequential()\n",
    "\n",
    "# Add convolutional layer with 3, 3 by 3 filters and a stride size of 1\n",
    "# Set padding so that input size equals output size\n",
    "model.add(Conv2D(6,3,input_shape=img_shape))\n",
    "# Add relu activation to the layer \n",
    "model.add(Activation('relu'))\n",
    "\n",
    "model.add(MaxPool2D(2))\n",
    "\n",
    "model.add(Conv2D(12,3))\n",
    "\n",
    "model.add(Activation('relu'))\n",
    "\n",
    "model.add(MaxPool2D(2))\n",
    "\n",
    "model.add(Flatten())\n",
    "\n",
    "model.add(Dense(10))\n",
    "\n",
    "model.add(Activation('softmax'))"
   ]
  },
  {
   "cell_type": "code",
   "execution_count": 38,
   "metadata": {},
   "outputs": [
    {
     "name": "stdout",
     "output_type": "stream",
     "text": [
      "Model: \"sequential_4\"\n",
      "_________________________________________________________________\n",
      " Layer (type)                Output Shape              Param #   \n",
      "=================================================================\n",
      " conv2d_8 (Conv2D)           (None, 26, 26, 6)         60        \n",
      "                                                                 \n",
      " activation_12 (Activation)  (None, 26, 26, 6)         0         \n",
      "                                                                 \n",
      " max_pooling2d_8 (MaxPoolin  (None, 13, 13, 6)         0         \n",
      " g2D)                                                            \n",
      "                                                                 \n",
      " conv2d_9 (Conv2D)           (None, 11, 11, 12)        660       \n",
      "                                                                 \n",
      " activation_13 (Activation)  (None, 11, 11, 12)        0         \n",
      "                                                                 \n",
      " max_pooling2d_9 (MaxPoolin  (None, 5, 5, 12)          0         \n",
      " g2D)                                                            \n",
      "                                                                 \n",
      " flatten_4 (Flatten)         (None, 300)               0         \n",
      "                                                                 \n",
      " dense_4 (Dense)             (None, 10)                3010      \n",
      "                                                                 \n",
      " activation_14 (Activation)  (None, 10)                0         \n",
      "                                                                 \n",
      "=================================================================\n",
      "Total params: 3730 (14.57 KB)\n",
      "Trainable params: 3730 (14.57 KB)\n",
      "Non-trainable params: 0 (0.00 Byte)\n",
      "_________________________________________________________________\n"
     ]
    }
   ],
   "source": [
    "model.summary()"
   ]
  },
  {
   "cell_type": "code",
   "execution_count": 39,
   "metadata": {},
   "outputs": [],
   "source": [
    "model.compile(loss='sparse_categorical_crossentropy', optimizer = keras.optimizers.legacy.Adam(), metrics=['acc'])"
   ]
  },
  {
   "cell_type": "code",
   "execution_count": 40,
   "metadata": {},
   "outputs": [],
   "source": [
    "from keras.datasets import mnist"
   ]
  },
  {
   "cell_type": "code",
   "execution_count": 41,
   "metadata": {},
   "outputs": [],
   "source": [
    "(x_train, y_train), (x_test, y_test) = mnist.load_data()"
   ]
  },
  {
   "cell_type": "code",
   "execution_count": 42,
   "metadata": {},
   "outputs": [
    {
     "data": {
      "text/plain": [
       "(60000, 28, 28)"
      ]
     },
     "execution_count": 42,
     "metadata": {},
     "output_type": "execute_result"
    }
   ],
   "source": [
    "x_train.shape"
   ]
  },
  {
   "cell_type": "code",
   "execution_count": 43,
   "metadata": {},
   "outputs": [],
   "source": [
    "x_train = np.expand_dims(x_train,-1)"
   ]
  },
  {
   "cell_type": "code",
   "execution_count": 44,
   "metadata": {},
   "outputs": [],
   "source": [
    "x_test = np.expand_dims(x_test,-1)"
   ]
  },
  {
   "cell_type": "code",
   "execution_count": 45,
   "metadata": {},
   "outputs": [
    {
     "data": {
      "text/plain": [
       "(60000, 28, 28, 1)"
      ]
     },
     "execution_count": 45,
     "metadata": {},
     "output_type": "execute_result"
    }
   ],
   "source": [
    "x_train.shape"
   ]
  },
  {
   "cell_type": "code",
   "execution_count": 46,
   "metadata": {},
   "outputs": [
    {
     "data": {
      "text/plain": [
       "(60000,)"
      ]
     },
     "execution_count": 46,
     "metadata": {},
     "output_type": "execute_result"
    }
   ],
   "source": [
    "y_train.shape"
   ]
  },
  {
   "cell_type": "code",
   "execution_count": 47,
   "metadata": {},
   "outputs": [
    {
     "name": "stdout",
     "output_type": "stream",
     "text": [
      "Epoch 1/10\n",
      "1875/1875 [==============================] - 3s 2ms/step - loss: 1.6049 - acc: 0.8750 - val_loss: 0.2007 - val_acc: 0.9481\n",
      "Epoch 2/10\n",
      "1875/1875 [==============================] - 3s 1ms/step - loss: 0.1446 - acc: 0.9588 - val_loss: 0.1166 - val_acc: 0.9677\n",
      "Epoch 3/10\n",
      "1875/1875 [==============================] - 3s 1ms/step - loss: 0.0927 - acc: 0.9717 - val_loss: 0.0832 - val_acc: 0.9756\n",
      "Epoch 4/10\n",
      "1875/1875 [==============================] - 3s 1ms/step - loss: 0.0743 - acc: 0.9777 - val_loss: 0.0703 - val_acc: 0.9780\n",
      "Epoch 5/10\n",
      "1875/1875 [==============================] - 3s 1ms/step - loss: 0.0637 - acc: 0.9797 - val_loss: 0.0713 - val_acc: 0.9790\n",
      "Epoch 6/10\n",
      "1875/1875 [==============================] - 3s 2ms/step - loss: 0.0579 - acc: 0.9817 - val_loss: 0.0591 - val_acc: 0.9828\n",
      "Epoch 7/10\n",
      "1875/1875 [==============================] - 3s 2ms/step - loss: 0.0539 - acc: 0.9833 - val_loss: 0.0528 - val_acc: 0.9845\n",
      "Epoch 8/10\n",
      "1875/1875 [==============================] - 3s 1ms/step - loss: 0.0486 - acc: 0.9844 - val_loss: 0.0602 - val_acc: 0.9821\n",
      "Epoch 9/10\n",
      "1875/1875 [==============================] - 3s 1ms/step - loss: 0.0458 - acc: 0.9858 - val_loss: 0.0518 - val_acc: 0.9844\n",
      "Epoch 10/10\n",
      "1875/1875 [==============================] - 3s 1ms/step - loss: 0.0442 - acc: 0.9861 - val_loss: 0.0648 - val_acc: 0.9804\n"
     ]
    }
   ],
   "source": [
    "history = model.fit(x_train,\n",
    "                    y_train,\n",
    "                    batch_size=32,\n",
    "                    epochs=10,\n",
    "                    validation_data=(x_test,y_test))"
   ]
  },
  {
   "cell_type": "code",
   "execution_count": 48,
   "metadata": {},
   "outputs": [
    {
     "data": {
      "image/png": "[encoded data removed]",
      "text/plain": [
       "<Figure size 1000x600 with 1 Axes>"
      ]
     },
     "metadata": {},
     "output_type": "display_data"
    }
   ],
   "source": [
    "import matplotlib.pyplot as plt\n",
    "\n",
    "fig, ax = plt.subplots(figsize=(10,6))\n",
    "gen = ax.plot(history.history['val_acc'], label='Validation Accuracy')\n",
    "fr = ax.plot(history.history['acc'],dashes=[5, 2], label='Training Accuracy')\n",
    "\n",
    "legend = ax.legend(loc='lower center', shadow=True)\n",
    "\n",
    "plt.show()"
   ]
  },
  {
   "cell_type": "code",
   "execution_count": 49,
   "metadata": {},
   "outputs": [
    {
     "data": {
      "text/plain": [
       "{'loss': [1.604891061782837,\n",
       "  0.1445588320493698,\n",
       "  0.09269608557224274,\n",
       "  0.07434343546628952,\n",
       "  0.0636630579829216,\n",
       "  0.05790429189801216,\n",
       "  0.053897079080343246,\n",
       "  0.04862499609589577,\n",
       "  0.04582495987415314,\n",
       "  0.04417536035180092],\n",
       " 'acc': [0.8749833106994629,\n",
       "  0.9588333368301392,\n",
       "  0.9717000126838684,\n",
       "  0.9776666760444641,\n",
       "  0.9797166585922241,\n",
       "  0.9817333221435547,\n",
       "  0.9832666516304016,\n",
       "  0.9843666553497314,\n",
       "  0.98580002784729,\n",
       "  0.9861166477203369],\n",
       " 'val_loss': [0.2006569653749466,\n",
       "  0.11662891507148743,\n",
       "  0.0831621065735817,\n",
       "  0.0703481063246727,\n",
       "  0.07133454084396362,\n",
       "  0.05910598859190941,\n",
       "  0.05280456691980362,\n",
       "  0.06021801754832268,\n",
       "  0.05182744190096855,\n",
       "  0.06479313224554062],\n",
       " 'val_acc': [0.9480999708175659,\n",
       "  0.9677000045776367,\n",
       "  0.975600004196167,\n",
       "  0.9779999852180481,\n",
       "  0.9789999723434448,\n",
       "  0.9828000068664551,\n",
       "  0.984499990940094,\n",
       "  0.9821000099182129,\n",
       "  0.9843999743461609,\n",
       "  0.980400025844574]}"
      ]
     },
     "execution_count": 49,
     "metadata": {},
     "output_type": "execute_result"
    }
   ],
   "source": [
    "history.history"
   ]
  },
  {
   "cell_type": "markdown",
   "metadata": {},
   "source": [
    "## Regularization"
   ]
  },
  {
   "cell_type": "code",
   "execution_count": 50,
   "metadata": {},
   "outputs": [],
   "source": [
    "from keras.regularizers import l2\n",
    "\n",
    "# Set up model\n",
    "model = Sequential()\n",
    "\n",
    "# Add convolutional layer with 3, 3 by 3 filters and a stride size of 1\n",
    "# Set padding so that input size equals output size\n",
    "model.add(Conv2D(6,3,input_shape=img_shape, kernel_regularizer=l2(0.01)))\n",
    "# Add relu activation to the layer \n",
    "model.add(Activation('relu'))\n",
    "\n",
    "model.add(MaxPool2D(2))\n",
    "\n",
    "model.add(Conv2D(12,3,activity_regularizer=l2(0.01)))\n",
    "\n",
    "model.add(Activation('relu'))\n",
    "\n",
    "model.add(MaxPool2D(2))\n",
    "\n",
    "model.add(Flatten())\n",
    "\n",
    "model.add(Dense(10,bias_regularizer=l2(0.01)))\n",
    "\n",
    "model.add(Activation('softmax'))"
   ]
  },
  {
   "cell_type": "code",
   "execution_count": 53,
   "metadata": {},
   "outputs": [],
   "source": [
    "model.compile(loss='sparse_categorical_crossentropy', optimizer = keras.optimizers.legacy.Adam(), metrics=['acc'])"
   ]
  },
  {
   "cell_type": "code",
   "execution_count": 54,
   "metadata": {},
   "outputs": [
    {
     "name": "stdout",
     "output_type": "stream",
     "text": [
      "Epoch 1/10\n",
      "1875/1875 [==============================] - 4s 2ms/step - loss: 144.8255 - acc: 0.6769 - val_loss: 2.4615 - val_acc: 0.8062\n",
      "Epoch 2/10\n",
      "1875/1875 [==============================] - 3s 2ms/step - loss: 1.5681 - acc: 0.8307 - val_loss: 1.0778 - val_acc: 0.8640\n",
      "Epoch 3/10\n",
      "1875/1875 [==============================] - 3s 2ms/step - loss: 0.9135 - acc: 0.8680 - val_loss: 0.7380 - val_acc: 0.8883\n",
      "Epoch 4/10\n",
      "1875/1875 [==============================] - 3s 2ms/step - loss: 0.6685 - acc: 0.8929 - val_loss: 0.5552 - val_acc: 0.9113\n",
      "Epoch 5/10\n",
      "1875/1875 [==============================] - 4s 2ms/step - loss: 0.5224 - acc: 0.9124 - val_loss: 0.4364 - val_acc: 0.9291\n",
      "Epoch 6/10\n",
      "1875/1875 [==============================] - 3s 2ms/step - loss: 0.4249 - acc: 0.9263 - val_loss: 0.3753 - val_acc: 0.9360\n",
      "Epoch 7/10\n",
      "1875/1875 [==============================] - 3s 2ms/step - loss: 0.3536 - acc: 0.9371 - val_loss: 0.3051 - val_acc: 0.9504\n",
      "Epoch 8/10\n",
      "1875/1875 [==============================] - 3s 2ms/step - loss: 0.3002 - acc: 0.9463 - val_loss: 0.2757 - val_acc: 0.9521\n",
      "Epoch 9/10\n",
      "1875/1875 [==============================] - 3s 2ms/step - loss: 0.2657 - acc: 0.9503 - val_loss: 0.2538 - val_acc: 0.9543\n",
      "Epoch 10/10\n",
      "1875/1875 [==============================] - 3s 2ms/step - loss: 0.2351 - acc: 0.9560 - val_loss: 0.2075 - val_acc: 0.9639\n"
     ]
    }
   ],
   "source": [
    "history = model.fit(x_train,\n",
    "                    y_train,\n",
    "                    batch_size=32,\n",
    "                    epochs=10,\n",
    "                    validation_data=(x_test,y_test))"
   ]
  },
  {
   "cell_type": "markdown",
   "metadata": {},
   "source": [
    "# Dropout"
   ]
  },
  {
   "cell_type": "code",
   "execution_count": 55,
   "metadata": {},
   "outputs": [],
   "source": [
    "from keras.layers import Dropout\n",
    "\n",
    "\n",
    "model = Sequential()\n",
    "\n",
    "\n",
    "model.add(Conv2D(6,3,input_shape=img_shape))\n",
    "model.add(Activation('relu'))\n",
    "model.add(MaxPool2D(2))\n",
    "\n",
    "model.add(Dropout(0.2))\n",
    "\n",
    "model.add(Conv2D(12,3))\n",
    "model.add(Activation('relu'))\n",
    "model.add(MaxPool2D(2))\n",
    "\n",
    "model.add(Dropout(0.2))\n",
    "\n",
    "model.add(Flatten())\n",
    "\n",
    "model.add(Dense(10,bias_regularizer=l2(0.01)))\n",
    "\n",
    "model.add(Activation('softmax'))"
   ]
  },
  {
   "cell_type": "code",
   "execution_count": 56,
   "metadata": {},
   "outputs": [],
   "source": [
    "model.compile(loss='sparse_categorical_crossentropy', optimizer = keras.optimizers.legacy.Adam(), metrics=['acc'])"
   ]
  },
  {
   "cell_type": "code",
   "execution_count": 57,
   "metadata": {},
   "outputs": [
    {
     "name": "stdout",
     "output_type": "stream",
     "text": [
      "Epoch 1/10\n"
     ]
    },
    {
     "name": "stderr",
     "output_type": "stream",
     "text": [
      "2023-11-22 20:49:12.128626: E tensorflow/core/grappler/optimizers/meta_optimizer.cc:954] layout failed: INVALID_ARGUMENT: Size of values 0 does not match size of permutation 4 @ fanin shape insequential_6/dropout/dropout/SelectV2-2-TransposeNHWCToNCHW-LayoutOptimizer\n"
     ]
    },
    {
     "name": "stdout",
     "output_type": "stream",
     "text": [
      "1875/1875 [==============================] - 4s 2ms/step - loss: 4.2475 - acc: 0.6819 - val_loss: 0.2712 - val_acc: 0.9177\n",
      "Epoch 2/10\n",
      "1875/1875 [==============================] - 3s 2ms/step - loss: 0.3557 - acc: 0.8863 - val_loss: 0.1395 - val_acc: 0.9601\n",
      "Epoch 3/10\n",
      "1875/1875 [==============================] - 3s 2ms/step - loss: 0.2377 - acc: 0.9244 - val_loss: 0.1037 - val_acc: 0.9692\n",
      "Epoch 4/10\n",
      "1875/1875 [==============================] - 3s 2ms/step - loss: 0.1783 - acc: 0.9426 - val_loss: 0.0787 - val_acc: 0.9757\n",
      "Epoch 5/10\n",
      "1875/1875 [==============================] - 3s 2ms/step - loss: 0.1520 - acc: 0.9513 - val_loss: 0.0718 - val_acc: 0.9784\n",
      "Epoch 6/10\n",
      "1875/1875 [==============================] - 3s 2ms/step - loss: 0.1291 - acc: 0.9602 - val_loss: 0.0639 - val_acc: 0.9810\n",
      "Epoch 7/10\n",
      "1875/1875 [==============================] - 3s 2ms/step - loss: 0.1215 - acc: 0.9625 - val_loss: 0.0649 - val_acc: 0.9797\n",
      "Epoch 8/10\n",
      "1875/1875 [==============================] - 3s 2ms/step - loss: 0.1140 - acc: 0.9645 - val_loss: 0.0559 - val_acc: 0.9812\n",
      "Epoch 9/10\n",
      "1875/1875 [==============================] - 3s 2ms/step - loss: 0.1134 - acc: 0.9648 - val_loss: 0.0523 - val_acc: 0.9829\n",
      "Epoch 10/10\n",
      "1875/1875 [==============================] - 3s 2ms/step - loss: 0.1076 - acc: 0.9650 - val_loss: 0.0493 - val_acc: 0.9826\n"
     ]
    }
   ],
   "source": [
    "history = model.fit(x_train,\n",
    "                    y_train,\n",
    "                    batch_size=32,\n",
    "                    epochs=10,\n",
    "                    validation_data=(x_test,y_test))"
   ]
  },
  {
   "cell_type": "code",
   "execution_count": 58,
   "metadata": {},
   "outputs": [],
   "source": [
    "from keras.layers import BatchNormalization\n",
    "\n",
    "\n",
    "model = Sequential()\n",
    "\n",
    "\n",
    "model.add(Conv2D(6,3,input_shape=img_shape))\n",
    "model.add(Activation('relu'))\n",
    "model.add(MaxPool2D(2))\n",
    "\n",
    "model.add(BatchNormalization())\n",
    "\n",
    "model.add(Conv2D(12,3))\n",
    "model.add(Activation('relu'))\n",
    "model.add(MaxPool2D(2))\n",
    "\n",
    "model.add(BatchNormalization())\n",
    "\n",
    "model.add(Flatten())\n",
    "\n",
    "model.add(Dense(10,bias_regularizer=l2(0.01)))\n",
    "\n",
    "model.add(Activation('softmax'))"
   ]
  },
  {
   "cell_type": "code",
   "execution_count": 59,
   "metadata": {},
   "outputs": [],
   "source": [
    "model.compile(loss='sparse_categorical_crossentropy', optimizer = keras.optimizers.legacy.Adam(), metrics=['acc'])"
   ]
  },
  {
   "cell_type": "code",
   "execution_count": 60,
   "metadata": {},
   "outputs": [
    {
     "name": "stdout",
     "output_type": "stream",
     "text": [
      "Epoch 1/10\n",
      "1875/1875 [==============================] - 4s 2ms/step - loss: 0.1947 - acc: 0.9427 - val_loss: 0.0690 - val_acc: 0.9780\n",
      "Epoch 2/10\n",
      "1875/1875 [==============================] - 4s 2ms/step - loss: 0.0691 - acc: 0.9790 - val_loss: 0.0593 - val_acc: 0.9819\n",
      "Epoch 3/10\n",
      "1875/1875 [==============================] - 3s 2ms/step - loss: 0.0549 - acc: 0.9826 - val_loss: 0.0506 - val_acc: 0.9836\n",
      "Epoch 4/10\n",
      "1875/1875 [==============================] - 3s 2ms/step - loss: 0.0471 - acc: 0.9856 - val_loss: 0.0477 - val_acc: 0.9838\n",
      "Epoch 5/10\n",
      "1875/1875 [==============================] - 3s 2ms/step - loss: 0.0421 - acc: 0.9866 - val_loss: 0.0446 - val_acc: 0.9857\n",
      "Epoch 6/10\n",
      "1875/1875 [==============================] - 3s 2ms/step - loss: 0.0374 - acc: 0.9880 - val_loss: 0.0463 - val_acc: 0.9850\n",
      "Epoch 7/10\n",
      "1875/1875 [==============================] - 3s 2ms/step - loss: 0.0352 - acc: 0.9884 - val_loss: 0.0427 - val_acc: 0.9857\n",
      "Epoch 8/10\n",
      "1875/1875 [==============================] - 3s 2ms/step - loss: 0.0314 - acc: 0.9895 - val_loss: 0.0506 - val_acc: 0.9838\n",
      "Epoch 9/10\n",
      "1875/1875 [==============================] - 3s 2ms/step - loss: 0.0298 - acc: 0.9903 - val_loss: 0.0523 - val_acc: 0.9828\n",
      "Epoch 10/10\n",
      "1875/1875 [==============================] - 3s 2ms/step - loss: 0.0275 - acc: 0.9911 - val_loss: 0.0484 - val_acc: 0.9858\n"
     ]
    }
   ],
   "source": [
    "history = model.fit(x_train,\n",
    "                    y_train,\n",
    "                    batch_size=32,\n",
    "                    epochs=10,\n",
    "                    validation_data=(x_test,y_test))"
   ]
  },
  {
   "cell_type": "code",
   "execution_count": 61,
   "metadata": {},
   "outputs": [
    {
     "data": {
      "image/png": "[encoded data removed]",
      "text/plain": [
       "<Figure size 1000x600 with 1 Axes>"
      ]
     },
     "metadata": {},
     "output_type": "display_data"
    }
   ],
   "source": [
    "import matplotlib.pyplot as plt\n",
    "\n",
    "fig, ax = plt.subplots(figsize=(10,6))\n",
    "gen = ax.plot(history.history['val_acc'], label='Validation Accuracy')\n",
    "fr = ax.plot(history.history['acc'],dashes=[5, 2], label='Training Accuracy')\n",
    "\n",
    "legend = ax.legend(loc='lower center', shadow=True)\n",
    "\n",
    "plt.show()"
   ]
  },
  {
   "cell_type": "code",
   "execution_count": null,
   "metadata": {},
   "outputs": [],
   "source": []
  }
 ],
 "metadata": {
  "anaconda-cloud": {},
  "kernelspec": {
   "display_name": "Python [default]",
   "language": "python",
   "name": "python3"
  },
  "language_info": {
   "codemirror_mode": {
    "name": "ipython",
    "version": 3
   },
   "file_extension": ".py",
   "mimetype": "text/x-python",
   "name": "python",
   "nbconvert_exporter": "python",
   "pygments_lexer": "ipython3",
   "version": "3.8.13"
  }
 },
 "nbformat": 4,
 "nbformat_minor": 2
}
